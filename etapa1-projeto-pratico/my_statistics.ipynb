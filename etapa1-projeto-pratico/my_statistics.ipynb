{
  "cells": [
    {
      "cell_type": "code",
      "execution_count": 28,
      "metadata": {
        "colab": {
          "base_uri": "https://localhost:8080/"
        },
        "id": "eRSIPaZ5G3pO",
        "outputId": "dd4ab22d-7b67-4d44-85c5-ac1aec329d53"
      },
      "outputs": [
        {
          "name": "stdout",
          "output_type": "stream",
          "text": [
            "\n",
            "1. Quantidade de vertices: 12\n",
            "2. Quantidade de arestas: 11\n",
            "3. Quantidade de arcos: 22\n",
            "4. Quantidade de vertices requeridos: 7\n",
            "5. Quantidade de arestas requeridas: 11\n",
            "6. Quantidade de arcos requeridos: 11\n",
            "7. Densidade do grafo (order strength): 0.5\n",
            "8. Componentes conectados: 1\n",
            "9. Grau minimo dos vertices: 6\n",
            "10. Grau maximo dos vertices: 10\n",
            "11. Intermediacao: \n",
            "12. Caminho medio: 18.795454545454547\n",
            "13. Diametro: 39 \n",
            "\n"
          ]
        }
      ],
      "source": [
        "import importlib\n",
        "import main\n",
        "\n",
        "importlib.reload(main)\n",
        "\n",
        "graph = main.Graph()\n",
        "graph.addRoads()\n",
        "graph.showStatistics()"
      ]
    }
  ],
  "metadata": {
    "colab": {
      "provenance": []
    },
    "kernelspec": {
      "display_name": "Python 3",
      "name": "python3"
    },
    "language_info": {
      "codemirror_mode": {
        "name": "ipython",
        "version": 3
      },
      "file_extension": ".py",
      "mimetype": "text/x-python",
      "name": "python",
      "nbconvert_exporter": "python",
      "pygments_lexer": "ipython3",
      "version": "3.13.2"
    }
  },
  "nbformat": 4,
  "nbformat_minor": 0
}
